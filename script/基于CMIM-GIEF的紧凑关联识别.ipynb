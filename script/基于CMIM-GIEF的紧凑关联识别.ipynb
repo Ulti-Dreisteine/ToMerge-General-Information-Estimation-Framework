{
 "cells": [
  {
   "attachments": {},
   "cell_type": "markdown",
   "metadata": {},
   "source": [
    "基于CMIM-GIEF算法的紧凑关联识别案例"
   ]
  },
  {
   "cell_type": "code",
   "execution_count": 1,
   "metadata": {},
   "outputs": [
    {
     "name": "stdout",
     "output_type": "stream",
     "text": [
      "Use environmental variables in default.yml\n"
     ]
    }
   ],
   "source": [
    "from sklearn.ensemble import RandomForestRegressor\n",
    "import pandas as pd\n",
    "import numpy as np\n",
    "import sys\n",
    "import os\n",
    "\n",
    "BASE_DIR = os.path.abspath(os.path.join(os.getcwd(), \"../\" * 1))\n",
    "sys.path.insert(0, BASE_DIR)\n",
    "\n",
    "from setting import plt\n",
    "from giefstat.compact_recog import CondMIMaximization, recog_compact"
   ]
  },
  {
   "attachments": {},
   "cell_type": "markdown",
   "metadata": {},
   "source": [
    "载入待分析数据, 总样本量为2727，其中X为217个过程变量数据, Y为四个收率（轻柴油、重柴油、汽油、干气）的数据："
   ]
  },
  {
   "cell_type": "code",
   "execution_count": 2,
   "metadata": {},
   "outputs": [],
   "source": [
    "X_df = pd.read_csv(f\"{BASE_DIR}/dataset/fcc/X.csv\")\n",
    "Y_df = pd.read_csv(f\"{BASE_DIR}/dataset/fcc/Y.csv\")"
   ]
  },
  {
   "cell_type": "code",
   "execution_count": 3,
   "metadata": {},
   "outputs": [
    {
     "name": "stdout",
     "output_type": "stream",
     "text": [
      "(2727, 217)\n",
      "(2727, 4)\n"
     ]
    }
   ],
   "source": [
    "print(X_df.shape)\n",
    "print(Y_df.shape)"
   ]
  },
  {
   "attachments": {},
   "cell_type": "markdown",
   "metadata": {},
   "source": [
    "#### **情形1：已选特征集X_pre为空时的紧凑变量选择**"
   ]
  },
  {
   "cell_type": "code",
   "execution_count": 4,
   "metadata": {},
   "outputs": [
    {
     "name": "stdout",
     "output_type": "stream",
     "text": [
      "iteration i=0 \t select feature no. 31\n",
      "iteration i=1 \t select feature no. 169\n",
      "iteration i=2 \t select feature no. 52\n",
      "iteration i=3 \t select feature no. 138\n",
      "iteration i=4 \t select feature no. 185\n",
      "iteration i=5 \t select feature no. 173\n",
      "iteration i=6 \t select feature no. 180\n",
      "iteration i=7 \t select feature no. 137\n",
      "iteration i=8 \t select feature no. 183\n",
      "iteration i=9 \t select feature no. 111\n",
      "iteration i=10 \t select feature no. 154\n",
      "iteration i=11 \t select feature no. 152\n",
      "iteration i=12 \t select feature no. 49\n",
      "iteration i=13 \t select feature no. 158\n",
      "iteration i=14 \t select feature no. 172\n",
      "iteration i=15 \t select feature no. 108\n",
      "iteration i=16 \t select feature no. 113\n",
      "iteration i=17 \t select feature no. 134\n",
      "iteration i=18 \t select feature no. 194\n",
      "iteration i=19 \t select feature no. 5\n",
      "iteration i=20 \t select feature no. 124\n",
      "iteration i=21 \t select feature no. 87\n",
      "iteration i=22 \t select feature no. 133\n",
      "iteration i=23 \t select feature no. 192\n",
      "iteration i=24 \t select feature no. 25\n",
      "iteration i=25 \t select feature no. 66\n",
      "iteration i=26 \t select feature no. 109\n",
      "iteration i=27 \t select feature no. 139\n",
      "iteration i=28 \t select feature no. 159\n",
      "iteration i=29 \t select feature no. 161\n"
     ]
    }
   ],
   "source": [
    "# 候选特征和已选特征\n",
    "X_pre, X_cand = None, X_df.values[:, 20:]\n",
    "\n",
    "# 目标为轻柴油收率\n",
    "y = Y_df.values[:, 0]\n",
    "\n",
    "# 紧凑关联排序\n",
    "if X_pre is None:\n",
    "    X = X_cand\n",
    "    S_pre = set()\n",
    "else:\n",
    "    X = np.c_[X_pre, X_cand]  # NOTE: 按照已选和候选先后顺序拼合为一个数组\n",
    "    S_pre = set(range(X_pre.shape[1]))\n",
    "    \n",
    "self = CondMIMaximization(X, y)\n",
    "features_rank, _ = self.feature_selection(S_pre, verbose=True)\n",
    "\n",
    "# FIMT测试并截断\n",
    "metric=\"r2\"\n",
    "model = RandomForestRegressor(\n",
    "    n_estimators=100, \n",
    "    max_features=\"auto\",  # NOTE: 这里选用\"auto\"使用全部特征建模是为了避免过拟合, 但是计算量会比选择\"sqrt\"更大\n",
    "    min_samples_leaf=3,\n",
    "    min_samples_split=10,\n",
    "    n_jobs = 3)\n",
    "n_features_lst = np.arange(1, len(features_rank) + 1, 1)  # 依次递增的测试特征数\n",
    "\n",
    "features_compact, fimt_values = recog_compact(\n",
    "    X, y, features_rank, model, n_features_lst, S_pre, metric, rounds=3)"
   ]
  },
  {
   "cell_type": "code",
   "execution_count": 5,
   "metadata": {},
   "outputs": [
    {
     "data": {
      "text/plain": [
       "[31, 169, 52, 138, 185, 173]"
      ]
     },
     "execution_count": 5,
     "metadata": {},
     "output_type": "execute_result"
    }
   ],
   "source": [
    "features_compact"
   ]
  },
  {
   "cell_type": "code",
   "execution_count": 6,
   "metadata": {},
   "outputs": [
    {
     "data": {
      "text/plain": [
       "[<matplotlib.lines.Line2D at 0x2a61b4d3bb0>]"
      ]
     },
     "execution_count": 6,
     "metadata": {},
     "output_type": "execute_result"
    },
    {
     "data": {
      "image/png": "[encoded data removed]",
      "text/plain": [
       "<Figure size 432x288 with 1 Axes>"
      ]
     },
     "metadata": {
      "needs_background": "light"
     },
     "output_type": "display_data"
    }
   ],
   "source": [
    "plt.plot(n_features_lst, fimt_values)"
   ]
  },
  {
   "cell_type": "code",
   "execution_count": 12,
   "metadata": {},
   "outputs": [
    {
     "data": {
      "text/plain": [
       "0.9868218414928333"
      ]
     },
     "execution_count": 12,
     "metadata": {},
     "output_type": "execute_result"
    }
   ],
   "source": [
    "np.max(fimt_values)"
   ]
  },
  {
   "attachments": {},
   "cell_type": "markdown",
   "metadata": {},
   "source": [
    "可见，CMIM-GIEF结合FIMT从217个特征中选出了6个特征，将预测准确度提升至0.98附近。"
   ]
  },
  {
   "attachments": {},
   "cell_type": "markdown",
   "metadata": {},
   "source": [
    "#### **情形2：已选特征集X_pre不为空时的紧凑变量选择**"
   ]
  },
  {
   "attachments": {},
   "cell_type": "markdown",
   "metadata": {},
   "source": [
    "首先, 指定本案例中的已选特征、候选特征和目标。其中，设置前10个特征为已选中的紧凑变量，算法需要在剩下的第20个特征以后构成的X_cand中选出额外的紧凑变量。"
   ]
  },
  {
   "cell_type": "code",
   "execution_count": 7,
   "metadata": {},
   "outputs": [],
   "source": [
    "# 候选特征和已选特征\n",
    "X_pre, X_cand = X_df.values[:, :10], X_df.values[:, 20:]\n",
    "\n",
    "# 目标为轻柴油收率\n",
    "y = Y_df.values[:, 0]"
   ]
  },
  {
   "attachments": {},
   "cell_type": "markdown",
   "metadata": {},
   "source": [
    "紧凑关联识别, 提供特征排序表："
   ]
  },
  {
   "cell_type": "code",
   "execution_count": 8,
   "metadata": {},
   "outputs": [
    {
     "name": "stdout",
     "output_type": "stream",
     "text": [
      "iteration i=0 \t select feature no. 201\n",
      "iteration i=1 \t select feature no. 179\n",
      "iteration i=2 \t select feature no. 184\n",
      "iteration i=3 \t select feature no. 62\n",
      "iteration i=4 \t select feature no. 122\n",
      "iteration i=5 \t select feature no. 119\n",
      "iteration i=6 \t select feature no. 193\n",
      "iteration i=7 \t select feature no. 97\n",
      "iteration i=8 \t select feature no. 162\n",
      "iteration i=9 \t select feature no. 134\n",
      "iteration i=10 \t select feature no. 204\n",
      "iteration i=11 \t select feature no. 183\n",
      "iteration i=12 \t select feature no. 139\n",
      "iteration i=13 \t select feature no. 147\n",
      "iteration i=14 \t select feature no. 41\n",
      "iteration i=15 \t select feature no. 190\n",
      "iteration i=16 \t select feature no. 148\n",
      "iteration i=17 \t select feature no. 202\n",
      "iteration i=18 \t select feature no. 144\n",
      "iteration i=19 \t select feature no. 121\n",
      "iteration i=20 \t select feature no. 195\n",
      "iteration i=21 \t select feature no. 192\n",
      "iteration i=22 \t select feature no. 106\n",
      "iteration i=23 \t select feature no. 164\n",
      "iteration i=24 \t select feature no. 123\n",
      "iteration i=25 \t select feature no. 168\n",
      "iteration i=26 \t select feature no. 142\n",
      "iteration i=27 \t select feature no. 143\n",
      "iteration i=28 \t select feature no. 197\n",
      "iteration i=29 \t select feature no. 182\n"
     ]
    }
   ],
   "source": [
    "if X_pre is None:\n",
    "    X = X_cand\n",
    "    S_pre = set()\n",
    "else:\n",
    "    X = np.c_[X_pre, X_cand]  # NOTE: 按照已选和候选先后顺序拼合为一个数组\n",
    "    S_pre = set(range(X_pre.shape[1]))\n",
    "    \n",
    "self = CondMIMaximization(X, y)\n",
    "features_rank, _ = self.feature_selection(S_pre, verbose=True)"
   ]
  },
  {
   "attachments": {},
   "cell_type": "markdown",
   "metadata": {},
   "source": [
    "FIMT测试确定截断："
   ]
  },
  {
   "cell_type": "code",
   "execution_count": 9,
   "metadata": {},
   "outputs": [],
   "source": [
    "metric=\"r2\"\n",
    "model = RandomForestRegressor(\n",
    "    n_estimators=100, \n",
    "    max_features=\"auto\",  # NOTE: 这里选用\"auto\"使用全部特征建模是为了避免过拟合, 但是计算量会比选择\"sqrt\"更大\n",
    "    min_samples_leaf=3,\n",
    "    min_samples_split=10,\n",
    "    n_jobs = 3)\n",
    "n_features_lst = np.arange(1, len(features_rank) + 1, 1)  # 依次递增的测试特征数\n",
    "\n",
    "features_compact, fimt_values = recog_compact(\n",
    "    X, y, features_rank, model, n_features_lst, S_pre, metric, rounds=3)"
   ]
  },
  {
   "cell_type": "code",
   "execution_count": 10,
   "metadata": {},
   "outputs": [
    {
     "data": {
      "text/plain": [
       "[201, 179, 184, 62]"
      ]
     },
     "execution_count": 10,
     "metadata": {},
     "output_type": "execute_result"
    }
   ],
   "source": [
    "features_compact"
   ]
  },
  {
   "attachments": {},
   "cell_type": "markdown",
   "metadata": {},
   "source": [
    "绘制FIMT分数随着CMIM-GIEF所得紧凑变量排序表增长的变化情况："
   ]
  },
  {
   "cell_type": "code",
   "execution_count": 11,
   "metadata": {},
   "outputs": [
    {
     "data": {
      "text/plain": [
       "[<matplotlib.lines.Line2D at 0x2a61b652340>]"
      ]
     },
     "execution_count": 11,
     "metadata": {},
     "output_type": "execute_result"
    },
    {
     "data": {
      "image/png": "[encoded data removed]",
      "text/plain": [
       "<Figure size 432x288 with 1 Axes>"
      ]
     },
     "metadata": {
      "needs_background": "light"
     },
     "output_type": "display_data"
    }
   ],
   "source": [
    "plt.plot(n_features_lst, fimt_values)"
   ]
  },
  {
   "attachments": {},
   "cell_type": "markdown",
   "metadata": {},
   "source": [
    "可见, CMIM-GIEF结合FIMT测试在X_pre中事先确定的10个特征的基础上额外选择了features_compact中的4个特征, 对应模型分数从0.95上升至0.975附近。"
   ]
  },
  {
   "attachments": {},
   "cell_type": "markdown",
   "metadata": {},
   "source": [
    "对比情形1和情形2的结果可见, 二者所得降维预测准确度相当，但前者使用特征数为6而后者为 10 + 4 = 14，这说明后者降维特征集中仍含有目标的冗余特征，X_pre是随意指定的，可能并不紧凑。"
   ]
  }
 ],
 "metadata": {
  "kernelspec": {
   "display_name": "pymc3_bayesian_env",
   "language": "python",
   "name": "python3"
  },
  "language_info": {
   "codemirror_mode": {
    "name": "ipython",
    "version": 3
   },
   "file_extension": ".py",
   "mimetype": "text/x-python",
   "name": "python",
   "nbconvert_exporter": "python",
   "pygments_lexer": "ipython3",
   "version": "3.8.8"
  },
  "orig_nbformat": 4
 },
 "nbformat": 4,
 "nbformat_minor": 2
}
