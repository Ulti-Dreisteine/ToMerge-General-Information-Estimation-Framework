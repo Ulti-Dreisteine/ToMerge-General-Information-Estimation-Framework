{
 "cells": [
  {
   "cell_type": "markdown",
   "metadata": {},
   "source": [
    "用于测试的数据集描述:"
   ]
  },
  {
   "cell_type": "markdown",
   "metadata": {},
   "source": [
    "$$\n",
    "\\begin{aligned}\n",
    "    x_1 &\\sim \\cal{N}(0, 1) \\\\\n",
    "    x_2 &\\sim \\cal{N}(0, 1) \\\\\n",
    "    z &\\sim \\cal{N}(0, 1)  \\\\\n",
    "    e_1 &\\sim \\cal{U}(0, 1e^{-6}) \\\\\n",
    "    e_2 &\\sim \\cal{U}(0, 1e^{-6}) \\\\\n",
    "\\end{aligned}\n",
    "$$\n",
    "\n",
    "$$\n",
    "\\rm{M1}: \\left\\{\n",
    "\\begin{aligned}\n",
    "    x &= x_1 + z + e_1 \\\\\n",
    "    y &= x_2 + z + e_2 \\\\\n",
    "\\end{aligned}\n",
    "\\right. \n",
    "$$\n",
    "\n",
    "$$\n",
    "\\rm{M2}: \\left\\{\n",
    "\\begin{aligned}\n",
    "    x &= x_1 + z + e_1 \\\\\n",
    "    y &= z^2 + e_2 \\\\\n",
    "\\end{aligned}\n",
    "\\right.\n",
    "$$\n",
    "\n",
    "$$\n",
    "\\rm{M3}: \\left\\{\n",
    "\\begin{aligned}\n",
    "    x &= x_1 + z + e_1 \\\\\n",
    "    y &= 0.5 \\cdot \\sin(\\pi \\cdot x_1) + z + e_2 \\\\\n",
    "\\end{aligned}\n",
    "\\right.\n",
    "$$\n",
    "\n",
    "$$\n",
    "\\rm{M3}: \\left\\{\n",
    "\\begin{aligned}\n",
    "    x &= x_1 + z + e_1 \\\\\n",
    "    y &= x_1 + x_2 + z + e_2 \\\\\n",
    "\\end{aligned}\n",
    "\\right.\n",
    "$$"
   ]
  },
  {
   "cell_type": "markdown",
   "metadata": {},
   "source": [
    "各数据集中变量间的因果关系:"
   ]
  },
  {
   "cell_type": "code",
   "execution_count": null,
   "metadata": {},
   "outputs": [],
   "source": []
  }
 ],
 "metadata": {
  "language_info": {
   "name": "python"
  },
  "orig_nbformat": 4
 },
 "nbformat": 4,
 "nbformat_minor": 2
}
